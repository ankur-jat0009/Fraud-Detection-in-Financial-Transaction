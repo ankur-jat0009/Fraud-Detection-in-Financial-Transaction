{
 "cells": [
  {
   "cell_type": "markdown",
   "id": "8c2bb010",
   "metadata": {},
   "source": [
    "#  Fraud Detection in Financial Transactions"
   ]
  },
  {
   "cell_type": "markdown",
   "id": "56db076c",
   "metadata": {},
   "source": [
    "- **Name:** Ankur Jat  \n",
    "- **Skills Applied:** Python, Pandas, Scikit-learn, XGBoost, Data Cleaning, Feature Engineering, Model Evaluation  \n",
    "- **Dataset:** Financial transaction dataset with ~6.3M records  "
   ]
  },
  {
   "cell_type": "code",
   "execution_count": null,
   "id": "2252227e",
   "metadata": {},
   "outputs": [],
   "source": [
    "# import necessary libraries\n",
    "import numpy as np\n",
    "import matplotlib.pyplot as plt\n",
    "import pandas as pd\n",
    "import seaborn as sns\n"
   ]
  },
  {
   "cell_type": "code",
   "execution_count": 33,
   "id": "5e0c7561",
   "metadata": {},
   "outputs": [],
   "source": [
    "# remove warnings\n",
    "import warnings\n",
    "warnings.filterwarnings('ignore')"
   ]
  },
  {
   "cell_type": "markdown",
   "id": "de482926",
   "metadata": {},
   "source": [
    "###  Step 1 – Load the dataset and Check Basic Details of the data"
   ]
  },
  {
   "cell_type": "code",
   "execution_count": 34,
   "id": "152083f4",
   "metadata": {},
   "outputs": [
    {
     "data": {
      "text/html": [
       "<div>\n",
       "<style scoped>\n",
       "    .dataframe tbody tr th:only-of-type {\n",
       "        vertical-align: middle;\n",
       "    }\n",
       "\n",
       "    .dataframe tbody tr th {\n",
       "        vertical-align: top;\n",
       "    }\n",
       "\n",
       "    .dataframe thead th {\n",
       "        text-align: right;\n",
       "    }\n",
       "</style>\n",
       "<table border=\"1\" class=\"dataframe\">\n",
       "  <thead>\n",
       "    <tr style=\"text-align: right;\">\n",
       "      <th></th>\n",
       "      <th>step</th>\n",
       "      <th>type</th>\n",
       "      <th>amount</th>\n",
       "      <th>nameOrig</th>\n",
       "      <th>oldbalanceOrg</th>\n",
       "      <th>newbalanceOrig</th>\n",
       "      <th>nameDest</th>\n",
       "      <th>oldbalanceDest</th>\n",
       "      <th>newbalanceDest</th>\n",
       "      <th>isFraud</th>\n",
       "      <th>isFlaggedFraud</th>\n",
       "    </tr>\n",
       "  </thead>\n",
       "  <tbody>\n",
       "    <tr>\n",
       "      <th>0</th>\n",
       "      <td>1</td>\n",
       "      <td>PAYMENT</td>\n",
       "      <td>9839.64</td>\n",
       "      <td>C1231006815</td>\n",
       "      <td>170136.0</td>\n",
       "      <td>160296.36</td>\n",
       "      <td>M1979787155</td>\n",
       "      <td>0.0</td>\n",
       "      <td>0.0</td>\n",
       "      <td>0</td>\n",
       "      <td>0</td>\n",
       "    </tr>\n",
       "    <tr>\n",
       "      <th>1</th>\n",
       "      <td>1</td>\n",
       "      <td>PAYMENT</td>\n",
       "      <td>1864.28</td>\n",
       "      <td>C1666544295</td>\n",
       "      <td>21249.0</td>\n",
       "      <td>19384.72</td>\n",
       "      <td>M2044282225</td>\n",
       "      <td>0.0</td>\n",
       "      <td>0.0</td>\n",
       "      <td>0</td>\n",
       "      <td>0</td>\n",
       "    </tr>\n",
       "    <tr>\n",
       "      <th>2</th>\n",
       "      <td>1</td>\n",
       "      <td>TRANSFER</td>\n",
       "      <td>181.00</td>\n",
       "      <td>C1305486145</td>\n",
       "      <td>181.0</td>\n",
       "      <td>0.00</td>\n",
       "      <td>C553264065</td>\n",
       "      <td>0.0</td>\n",
       "      <td>0.0</td>\n",
       "      <td>1</td>\n",
       "      <td>0</td>\n",
       "    </tr>\n",
       "    <tr>\n",
       "      <th>3</th>\n",
       "      <td>1</td>\n",
       "      <td>CASH_OUT</td>\n",
       "      <td>181.00</td>\n",
       "      <td>C840083671</td>\n",
       "      <td>181.0</td>\n",
       "      <td>0.00</td>\n",
       "      <td>C38997010</td>\n",
       "      <td>21182.0</td>\n",
       "      <td>0.0</td>\n",
       "      <td>1</td>\n",
       "      <td>0</td>\n",
       "    </tr>\n",
       "    <tr>\n",
       "      <th>4</th>\n",
       "      <td>1</td>\n",
       "      <td>PAYMENT</td>\n",
       "      <td>11668.14</td>\n",
       "      <td>C2048537720</td>\n",
       "      <td>41554.0</td>\n",
       "      <td>29885.86</td>\n",
       "      <td>M1230701703</td>\n",
       "      <td>0.0</td>\n",
       "      <td>0.0</td>\n",
       "      <td>0</td>\n",
       "      <td>0</td>\n",
       "    </tr>\n",
       "  </tbody>\n",
       "</table>\n",
       "</div>"
      ],
      "text/plain": [
       "   step      type    amount     nameOrig  oldbalanceOrg  newbalanceOrig  \\\n",
       "0     1   PAYMENT   9839.64  C1231006815       170136.0       160296.36   \n",
       "1     1   PAYMENT   1864.28  C1666544295        21249.0        19384.72   \n",
       "2     1  TRANSFER    181.00  C1305486145          181.0            0.00   \n",
       "3     1  CASH_OUT    181.00   C840083671          181.0            0.00   \n",
       "4     1   PAYMENT  11668.14  C2048537720        41554.0        29885.86   \n",
       "\n",
       "      nameDest  oldbalanceDest  newbalanceDest  isFraud  isFlaggedFraud  \n",
       "0  M1979787155             0.0             0.0        0               0  \n",
       "1  M2044282225             0.0             0.0        0               0  \n",
       "2   C553264065             0.0             0.0        1               0  \n",
       "3    C38997010         21182.0             0.0        1               0  \n",
       "4  M1230701703             0.0             0.0        0               0  "
      ]
     },
     "execution_count": 34,
     "metadata": {},
     "output_type": "execute_result"
    }
   ],
   "source": [
    "# load the dataset\n",
    "df= pd.read_csv('Fraud.csv')\n",
    "df.head()"
   ]
  },
  {
   "cell_type": "code",
   "execution_count": 36,
   "id": "547e048f",
   "metadata": {},
   "outputs": [
    {
     "name": "stdout",
     "output_type": "stream",
     "text": [
      "<class 'pandas.core.frame.DataFrame'>\n",
      "RangeIndex: 6362620 entries, 0 to 6362619\n",
      "Data columns (total 11 columns):\n",
      " #   Column          Dtype  \n",
      "---  ------          -----  \n",
      " 0   step            int64  \n",
      " 1   type            object \n",
      " 2   amount          float64\n",
      " 3   nameOrig        object \n",
      " 4   oldbalanceOrg   float64\n",
      " 5   newbalanceOrig  float64\n",
      " 6   nameDest        object \n",
      " 7   oldbalanceDest  float64\n",
      " 8   newbalanceDest  float64\n",
      " 9   isFraud         int64  \n",
      " 10  isFlaggedFraud  int64  \n",
      "dtypes: float64(5), int64(3), object(3)\n",
      "memory usage: 534.0+ MB\n"
     ]
    },
    {
     "data": {
      "text/html": [
       "<div>\n",
       "<style scoped>\n",
       "    .dataframe tbody tr th:only-of-type {\n",
       "        vertical-align: middle;\n",
       "    }\n",
       "\n",
       "    .dataframe tbody tr th {\n",
       "        vertical-align: top;\n",
       "    }\n",
       "\n",
       "    .dataframe thead th {\n",
       "        text-align: right;\n",
       "    }\n",
       "</style>\n",
       "<table border=\"1\" class=\"dataframe\">\n",
       "  <thead>\n",
       "    <tr style=\"text-align: right;\">\n",
       "      <th></th>\n",
       "      <th>count</th>\n",
       "      <th>mean</th>\n",
       "      <th>std</th>\n",
       "      <th>min</th>\n",
       "      <th>25%</th>\n",
       "      <th>50%</th>\n",
       "      <th>75%</th>\n",
       "      <th>max</th>\n",
       "    </tr>\n",
       "  </thead>\n",
       "  <tbody>\n",
       "    <tr>\n",
       "      <th>step</th>\n",
       "      <td>6362620.0</td>\n",
       "      <td>2.433972e+02</td>\n",
       "      <td>1.423320e+02</td>\n",
       "      <td>1.0</td>\n",
       "      <td>156.00</td>\n",
       "      <td>239.000</td>\n",
       "      <td>3.350000e+02</td>\n",
       "      <td>7.430000e+02</td>\n",
       "    </tr>\n",
       "    <tr>\n",
       "      <th>amount</th>\n",
       "      <td>6362620.0</td>\n",
       "      <td>1.798619e+05</td>\n",
       "      <td>6.038582e+05</td>\n",
       "      <td>0.0</td>\n",
       "      <td>13389.57</td>\n",
       "      <td>74871.940</td>\n",
       "      <td>2.087215e+05</td>\n",
       "      <td>9.244552e+07</td>\n",
       "    </tr>\n",
       "    <tr>\n",
       "      <th>oldbalanceOrg</th>\n",
       "      <td>6362620.0</td>\n",
       "      <td>8.338831e+05</td>\n",
       "      <td>2.888243e+06</td>\n",
       "      <td>0.0</td>\n",
       "      <td>0.00</td>\n",
       "      <td>14208.000</td>\n",
       "      <td>1.073152e+05</td>\n",
       "      <td>5.958504e+07</td>\n",
       "    </tr>\n",
       "    <tr>\n",
       "      <th>newbalanceOrig</th>\n",
       "      <td>6362620.0</td>\n",
       "      <td>8.551137e+05</td>\n",
       "      <td>2.924049e+06</td>\n",
       "      <td>0.0</td>\n",
       "      <td>0.00</td>\n",
       "      <td>0.000</td>\n",
       "      <td>1.442584e+05</td>\n",
       "      <td>4.958504e+07</td>\n",
       "    </tr>\n",
       "    <tr>\n",
       "      <th>oldbalanceDest</th>\n",
       "      <td>6362620.0</td>\n",
       "      <td>1.100702e+06</td>\n",
       "      <td>3.399180e+06</td>\n",
       "      <td>0.0</td>\n",
       "      <td>0.00</td>\n",
       "      <td>132705.665</td>\n",
       "      <td>9.430367e+05</td>\n",
       "      <td>3.560159e+08</td>\n",
       "    </tr>\n",
       "    <tr>\n",
       "      <th>newbalanceDest</th>\n",
       "      <td>6362620.0</td>\n",
       "      <td>1.224996e+06</td>\n",
       "      <td>3.674129e+06</td>\n",
       "      <td>0.0</td>\n",
       "      <td>0.00</td>\n",
       "      <td>214661.440</td>\n",
       "      <td>1.111909e+06</td>\n",
       "      <td>3.561793e+08</td>\n",
       "    </tr>\n",
       "    <tr>\n",
       "      <th>isFraud</th>\n",
       "      <td>6362620.0</td>\n",
       "      <td>1.290820e-03</td>\n",
       "      <td>3.590480e-02</td>\n",
       "      <td>0.0</td>\n",
       "      <td>0.00</td>\n",
       "      <td>0.000</td>\n",
       "      <td>0.000000e+00</td>\n",
       "      <td>1.000000e+00</td>\n",
       "    </tr>\n",
       "    <tr>\n",
       "      <th>isFlaggedFraud</th>\n",
       "      <td>6362620.0</td>\n",
       "      <td>2.514687e-06</td>\n",
       "      <td>1.585775e-03</td>\n",
       "      <td>0.0</td>\n",
       "      <td>0.00</td>\n",
       "      <td>0.000</td>\n",
       "      <td>0.000000e+00</td>\n",
       "      <td>1.000000e+00</td>\n",
       "    </tr>\n",
       "  </tbody>\n",
       "</table>\n",
       "</div>"
      ],
      "text/plain": [
       "                    count          mean           std  min       25%  \\\n",
       "step            6362620.0  2.433972e+02  1.423320e+02  1.0    156.00   \n",
       "amount          6362620.0  1.798619e+05  6.038582e+05  0.0  13389.57   \n",
       "oldbalanceOrg   6362620.0  8.338831e+05  2.888243e+06  0.0      0.00   \n",
       "newbalanceOrig  6362620.0  8.551137e+05  2.924049e+06  0.0      0.00   \n",
       "oldbalanceDest  6362620.0  1.100702e+06  3.399180e+06  0.0      0.00   \n",
       "newbalanceDest  6362620.0  1.224996e+06  3.674129e+06  0.0      0.00   \n",
       "isFraud         6362620.0  1.290820e-03  3.590480e-02  0.0      0.00   \n",
       "isFlaggedFraud  6362620.0  2.514687e-06  1.585775e-03  0.0      0.00   \n",
       "\n",
       "                       50%           75%           max  \n",
       "step               239.000  3.350000e+02  7.430000e+02  \n",
       "amount           74871.940  2.087215e+05  9.244552e+07  \n",
       "oldbalanceOrg    14208.000  1.073152e+05  5.958504e+07  \n",
       "newbalanceOrig       0.000  1.442584e+05  4.958504e+07  \n",
       "oldbalanceDest  132705.665  9.430367e+05  3.560159e+08  \n",
       "newbalanceDest  214661.440  1.111909e+06  3.561793e+08  \n",
       "isFraud              0.000  0.000000e+00  1.000000e+00  \n",
       "isFlaggedFraud       0.000  0.000000e+00  1.000000e+00  "
      ]
     },
     "execution_count": 36,
     "metadata": {},
     "output_type": "execute_result"
    }
   ],
   "source": [
    "# chheck info and describe\n",
    "df.info()\n",
    "df.describe().T"
   ]
  },
  {
   "cell_type": "markdown",
   "id": "807ecd13",
   "metadata": {},
   "source": [
    "###  Step 2 – Missing valuees check"
   ]
  },
  {
   "cell_type": "code",
   "execution_count": 37,
   "id": "cb9a5992",
   "metadata": {},
   "outputs": [
    {
     "data": {
      "text/plain": [
       "step              0\n",
       "type              0\n",
       "amount            0\n",
       "nameOrig          0\n",
       "oldbalanceOrg     0\n",
       "newbalanceOrig    0\n",
       "nameDest          0\n",
       "oldbalanceDest    0\n",
       "newbalanceDest    0\n",
       "isFraud           0\n",
       "isFlaggedFraud    0\n",
       "dtype: int64"
      ]
     },
     "execution_count": 37,
     "metadata": {},
     "output_type": "execute_result"
    }
   ],
   "source": [
    "#  Missing values check\n",
    "df.isna().sum()"
   ]
  },
  {
   "cell_type": "markdown",
   "id": "655b46d8",
   "metadata": {},
   "source": [
    "\n",
    "- The dataset has **no missing values**.  \n",
    "- All 11 columns are completely filled, which makes the dataset clean to proceed."
   ]
  },
  {
   "cell_type": "markdown",
   "id": "982c5e75",
   "metadata": {},
   "source": [
    "###  Step 3 – Data Types & Unique Values"
   ]
  },
  {
   "cell_type": "code",
   "execution_count": 38,
   "id": "7f73d810",
   "metadata": {},
   "outputs": [
    {
     "data": {
      "text/plain": [
       "(step                int64\n",
       " type               object\n",
       " amount            float64\n",
       " nameOrig           object\n",
       " oldbalanceOrg     float64\n",
       " newbalanceOrig    float64\n",
       " nameDest           object\n",
       " oldbalanceDest    float64\n",
       " newbalanceDest    float64\n",
       " isFraud             int64\n",
       " isFlaggedFraud      int64\n",
       " dtype: object,\n",
       " step                  743\n",
       " type                    5\n",
       " amount            5316900\n",
       " nameOrig          6353307\n",
       " oldbalanceOrg     1845844\n",
       " newbalanceOrig    2682586\n",
       " nameDest          2722362\n",
       " oldbalanceDest    3614697\n",
       " newbalanceDest    3555499\n",
       " isFraud                 2\n",
       " isFlaggedFraud          2\n",
       " dtype: int64)"
      ]
     },
     "execution_count": 38,
     "metadata": {},
     "output_type": "execute_result"
    }
   ],
   "source": [
    "#  Data types and unique values\n",
    "df.dtypes, df.nunique()"
   ]
  },
  {
   "cell_type": "markdown",
   "id": "3f6d44f7",
   "metadata": {},
   "source": [
    "\n",
    "\n",
    "- **Data types:**  \n",
    "  - Numeric: `step`, `amount`, balances (`oldbalanceOrg`, `newbalanceOrig`, `oldbalanceDest`, `newbalanceDest`), `isFraud`, `isFlaggedFraud`.  \n",
    "  - Categorical: `type`, `nameOrig`, `nameDest`.  \n",
    "\n",
    "- **Unique values:**  \n",
    "  - `type` has 5 categories → `CASH-IN`, `CASH-OUT`, `DEBIT`, `PAYMENT`, `TRANSFER`.  \n",
    "  - `isFraud` and `isFlaggedFraud` are binary (0/1).  \n",
    "  - ID columns (`nameOrig`, `nameDest`) have millions of unique values → they don’t directly help in prediction, better to drop or engineer features.  \n"
   ]
  },
  {
   "cell_type": "markdown",
   "id": "63a75bfb",
   "metadata": {},
   "source": [
    "###  Step 4 – Target Variable Distribution"
   ]
  },
  {
   "cell_type": "code",
   "execution_count": 39,
   "id": "0ab938ff",
   "metadata": {},
   "outputs": [
    {
     "data": {
      "text/plain": [
       "0    99.870918\n",
       "1     0.129082\n",
       "Name: isFraud, dtype: float64"
      ]
     },
     "execution_count": 39,
     "metadata": {},
     "output_type": "execute_result"
    }
   ],
   "source": [
    "#  Distribution of target variable\n",
    "df['isFraud'].value_counts(normalize=True) * 100\n",
    "\n"
   ]
  },
  {
   "cell_type": "markdown",
   "id": "de13027d",
   "metadata": {},
   "source": [
    "- The target variable **`isFraud` is highly imbalanced**.  \n",
    "- About **99.87% transactions are non-fraudulent (0)**, while only **0.13% are fraudulent (1)**.  \n",
    "- This imbalance means accuracy alone is not a good metric; we must focus on **recall, precision, F1-score, and ROC-AUC** when evaluating models.  "
   ]
  },
  {
   "cell_type": "markdown",
   "id": "47c5d3e6",
   "metadata": {},
   "source": [
    "###  Step 5 – Transaction Type vs Fraud"
   ]
  },
  {
   "cell_type": "code",
   "execution_count": 40,
   "id": "bdbdb929",
   "metadata": {},
   "outputs": [
    {
     "data": {
      "text/html": [
       "<div>\n",
       "<style scoped>\n",
       "    .dataframe tbody tr th:only-of-type {\n",
       "        vertical-align: middle;\n",
       "    }\n",
       "\n",
       "    .dataframe tbody tr th {\n",
       "        vertical-align: top;\n",
       "    }\n",
       "\n",
       "    .dataframe thead th {\n",
       "        text-align: right;\n",
       "    }\n",
       "</style>\n",
       "<table border=\"1\" class=\"dataframe\">\n",
       "  <thead>\n",
       "    <tr style=\"text-align: right;\">\n",
       "      <th>isFraud</th>\n",
       "      <th>0</th>\n",
       "      <th>1</th>\n",
       "    </tr>\n",
       "    <tr>\n",
       "      <th>type</th>\n",
       "      <th></th>\n",
       "      <th></th>\n",
       "    </tr>\n",
       "  </thead>\n",
       "  <tbody>\n",
       "    <tr>\n",
       "      <th>CASH_IN</th>\n",
       "      <td>100.000000</td>\n",
       "      <td>0.000000</td>\n",
       "    </tr>\n",
       "    <tr>\n",
       "      <th>CASH_OUT</th>\n",
       "      <td>99.816045</td>\n",
       "      <td>0.183955</td>\n",
       "    </tr>\n",
       "    <tr>\n",
       "      <th>DEBIT</th>\n",
       "      <td>100.000000</td>\n",
       "      <td>0.000000</td>\n",
       "    </tr>\n",
       "    <tr>\n",
       "      <th>PAYMENT</th>\n",
       "      <td>100.000000</td>\n",
       "      <td>0.000000</td>\n",
       "    </tr>\n",
       "    <tr>\n",
       "      <th>TRANSFER</th>\n",
       "      <td>99.231201</td>\n",
       "      <td>0.768799</td>\n",
       "    </tr>\n",
       "  </tbody>\n",
       "</table>\n",
       "</div>"
      ],
      "text/plain": [
       "isFraud            0         1\n",
       "type                          \n",
       "CASH_IN   100.000000  0.000000\n",
       "CASH_OUT   99.816045  0.183955\n",
       "DEBIT     100.000000  0.000000\n",
       "PAYMENT   100.000000  0.000000\n",
       "TRANSFER   99.231201  0.768799"
      ]
     },
     "execution_count": 40,
     "metadata": {},
     "output_type": "execute_result"
    }
   ],
   "source": [
    "#  Crosstab of type vs isFraud\n",
    "pd.crosstab(df['type'], df['isFraud'], normalize='index') * 100"
   ]
  },
  {
   "cell_type": "code",
   "execution_count": 54,
   "id": "969f3cf5",
   "metadata": {},
   "outputs": [
    {
     "data": {
      "image/png": "[encoded data removed]",
      "text/plain": [
       "<Figure size 800x500 with 1 Axes>"
      ]
     },
     "metadata": {},
     "output_type": "display_data"
    }
   ],
   "source": [
    "plt.figure(figsize=(8,5))\n",
    "sns.countplot(x='type', hue='isFraud', data=df, palette='Set1')\n",
    "plt.title(\"Fraud Count by Transaction Type\")\n",
    "plt.xlabel(\"Transaction Type\")\n",
    "plt.ylabel(\"Count\")\n",
    "plt.legend(title=\"isFraud\", labels=[\"Non-Fraud\",\"Fraud\"])\n",
    "plt.show()\n"
   ]
  },
  {
   "cell_type": "markdown",
   "id": "cf41dc21",
   "metadata": {},
   "source": [
    "- Fraudulent transactions are found **only in `CASH_OUT` and `TRANSFER` types**.  \n",
    "- Other transaction types (`CASH_IN`, `DEBIT`, `PAYMENT`) have **0% fraud cases**.  \n",
    "- This insight is very important: the model should focus mainly on **TRANSFER** and **CASH_OUT** transactions when predicting fraud.  "
   ]
  },
  {
   "cell_type": "markdown",
   "id": "96ab3249",
   "metadata": {},
   "source": [
    "###  Step 6 – Flagged Fraud vs Actual Fraud"
   ]
  },
  {
   "cell_type": "code",
   "execution_count": 41,
   "id": "3607bda3",
   "metadata": {},
   "outputs": [
    {
     "data": {
      "text/html": [
       "<div>\n",
       "<style scoped>\n",
       "    .dataframe tbody tr th:only-of-type {\n",
       "        vertical-align: middle;\n",
       "    }\n",
       "\n",
       "    .dataframe tbody tr th {\n",
       "        vertical-align: top;\n",
       "    }\n",
       "\n",
       "    .dataframe thead th {\n",
       "        text-align: right;\n",
       "    }\n",
       "</style>\n",
       "<table border=\"1\" class=\"dataframe\">\n",
       "  <thead>\n",
       "    <tr style=\"text-align: right;\">\n",
       "      <th>isFraud</th>\n",
       "      <th>0</th>\n",
       "      <th>1</th>\n",
       "    </tr>\n",
       "    <tr>\n",
       "      <th>isFlaggedFraud</th>\n",
       "      <th></th>\n",
       "      <th></th>\n",
       "    </tr>\n",
       "  </thead>\n",
       "  <tbody>\n",
       "    <tr>\n",
       "      <th>0</th>\n",
       "      <td>99.871169</td>\n",
       "      <td>0.128831</td>\n",
       "    </tr>\n",
       "    <tr>\n",
       "      <th>1</th>\n",
       "      <td>0.000000</td>\n",
       "      <td>100.000000</td>\n",
       "    </tr>\n",
       "  </tbody>\n",
       "</table>\n",
       "</div>"
      ],
      "text/plain": [
       "isFraud                 0           1\n",
       "isFlaggedFraud                       \n",
       "0               99.871169    0.128831\n",
       "1                0.000000  100.000000"
      ]
     },
     "execution_count": 41,
     "metadata": {},
     "output_type": "execute_result"
    }
   ],
   "source": [
    "#   Crosstab of isFlaggedFraud vs isFraud\n",
    "pd.crosstab(df['isFlaggedFraud'], df['isFraud'], normalize='index') * 100"
   ]
  },
  {
   "cell_type": "code",
   "execution_count": 53,
   "id": "28b91dd1",
   "metadata": {},
   "outputs": [
    {
     "data": {
      "image/png": "[encoded data removed]",
      "text/plain": [
       "<Figure size 600x400 with 1 Axes>"
      ]
     },
     "metadata": {},
     "output_type": "display_data"
    }
   ],
   "source": [
    "# Fraud distribution\n",
    "plt.figure(figsize=(6,4))\n",
    "sns.countplot(x='isFraud', data=df, palette='Set2')\n",
    "plt.title(\"Fraud vs Non-Fraud Transactions\")\n",
    "plt.xlabel(\"isFraud\")\n",
    "plt.ylabel(\"Count\")\n",
    "plt.show()\n"
   ]
  },
  {
   "cell_type": "markdown",
   "id": "5ca461b2",
   "metadata": {},
   "source": [
    "- When `isFlaggedFraud = 0`: the distribution is the same as the dataset → ~0.13% fraud.  \n",
    "- When `isFlaggedFraud = 1`: **100% of cases are actual fraud**, but these are only the large transfers (>200,000).  \n",
    "- This shows the **business rule is too strict and catches only a tiny portion of fraud**, while most fraud transactions are not flagged.  \n"
   ]
  },
  {
   "cell_type": "markdown",
   "id": "821488f4",
   "metadata": {},
   "source": [
    "###  Step 7 – Descriptive Statistics by Fraud"
   ]
  },
  {
   "cell_type": "code",
   "execution_count": 42,
   "id": "35ba70a0",
   "metadata": {},
   "outputs": [
    {
     "data": {
      "text/html": [
       "<div>\n",
       "<style scoped>\n",
       "    .dataframe tbody tr th:only-of-type {\n",
       "        vertical-align: middle;\n",
       "    }\n",
       "\n",
       "    .dataframe tbody tr th {\n",
       "        vertical-align: top;\n",
       "    }\n",
       "\n",
       "    .dataframe thead tr th {\n",
       "        text-align: left;\n",
       "    }\n",
       "\n",
       "    .dataframe thead tr:last-of-type th {\n",
       "        text-align: right;\n",
       "    }\n",
       "</style>\n",
       "<table border=\"1\" class=\"dataframe\">\n",
       "  <thead>\n",
       "    <tr>\n",
       "      <th></th>\n",
       "      <th colspan=\"8\" halign=\"left\">amount</th>\n",
       "      <th colspan=\"5\" halign=\"left\">oldbalanceOrg</th>\n",
       "      <th colspan=\"8\" halign=\"left\">newbalanceOrig</th>\n",
       "    </tr>\n",
       "    <tr>\n",
       "      <th></th>\n",
       "      <th>count</th>\n",
       "      <th>mean</th>\n",
       "      <th>std</th>\n",
       "      <th>min</th>\n",
       "      <th>25%</th>\n",
       "      <th>50%</th>\n",
       "      <th>75%</th>\n",
       "      <th>max</th>\n",
       "      <th>count</th>\n",
       "      <th>mean</th>\n",
       "      <th>...</th>\n",
       "      <th>75%</th>\n",
       "      <th>max</th>\n",
       "      <th>count</th>\n",
       "      <th>mean</th>\n",
       "      <th>std</th>\n",
       "      <th>min</th>\n",
       "      <th>25%</th>\n",
       "      <th>50%</th>\n",
       "      <th>75%</th>\n",
       "      <th>max</th>\n",
       "    </tr>\n",
       "    <tr>\n",
       "      <th>isFraud</th>\n",
       "      <th></th>\n",
       "      <th></th>\n",
       "      <th></th>\n",
       "      <th></th>\n",
       "      <th></th>\n",
       "      <th></th>\n",
       "      <th></th>\n",
       "      <th></th>\n",
       "      <th></th>\n",
       "      <th></th>\n",
       "      <th></th>\n",
       "      <th></th>\n",
       "      <th></th>\n",
       "      <th></th>\n",
       "      <th></th>\n",
       "      <th></th>\n",
       "      <th></th>\n",
       "      <th></th>\n",
       "      <th></th>\n",
       "      <th></th>\n",
       "      <th></th>\n",
       "    </tr>\n",
       "  </thead>\n",
       "  <tbody>\n",
       "    <tr>\n",
       "      <th>0</th>\n",
       "      <td>6354407.0</td>\n",
       "      <td>1.781970e+05</td>\n",
       "      <td>5.962370e+05</td>\n",
       "      <td>0.01</td>\n",
       "      <td>13368.395</td>\n",
       "      <td>74684.72</td>\n",
       "      <td>208364.76</td>\n",
       "      <td>92445516.64</td>\n",
       "      <td>6354407.0</td>\n",
       "      <td>8.328287e+05</td>\n",
       "      <td>...</td>\n",
       "      <td>106969.50</td>\n",
       "      <td>43818855.30</td>\n",
       "      <td>6354407.0</td>\n",
       "      <td>855970.228109</td>\n",
       "      <td>2.924987e+06</td>\n",
       "      <td>0.0</td>\n",
       "      <td>0.0</td>\n",
       "      <td>0.0</td>\n",
       "      <td>144730.74</td>\n",
       "      <td>43686616.33</td>\n",
       "    </tr>\n",
       "    <tr>\n",
       "      <th>1</th>\n",
       "      <td>8213.0</td>\n",
       "      <td>1.467967e+06</td>\n",
       "      <td>2.404253e+06</td>\n",
       "      <td>0.00</td>\n",
       "      <td>127091.330</td>\n",
       "      <td>441423.44</td>\n",
       "      <td>1517771.48</td>\n",
       "      <td>10000000.00</td>\n",
       "      <td>8213.0</td>\n",
       "      <td>1.649668e+06</td>\n",
       "      <td>...</td>\n",
       "      <td>1517771.48</td>\n",
       "      <td>59585040.37</td>\n",
       "      <td>8213.0</td>\n",
       "      <td>192392.631836</td>\n",
       "      <td>1.965666e+06</td>\n",
       "      <td>0.0</td>\n",
       "      <td>0.0</td>\n",
       "      <td>0.0</td>\n",
       "      <td>0.00</td>\n",
       "      <td>49585040.37</td>\n",
       "    </tr>\n",
       "  </tbody>\n",
       "</table>\n",
       "<p>2 rows × 24 columns</p>\n",
       "</div>"
      ],
      "text/plain": [
       "            amount                                                           \\\n",
       "             count          mean           std   min         25%        50%   \n",
       "isFraud                                                                       \n",
       "0        6354407.0  1.781970e+05  5.962370e+05  0.01   13368.395   74684.72   \n",
       "1           8213.0  1.467967e+06  2.404253e+06  0.00  127091.330  441423.44   \n",
       "\n",
       "                                 oldbalanceOrg                ...              \\\n",
       "                75%          max         count          mean  ...         75%   \n",
       "isFraud                                                       ...               \n",
       "0         208364.76  92445516.64     6354407.0  8.328287e+05  ...   106969.50   \n",
       "1        1517771.48  10000000.00        8213.0  1.649668e+06  ...  1517771.48   \n",
       "\n",
       "                     newbalanceOrig                                         \\\n",
       "                 max          count           mean           std  min  25%   \n",
       "isFraud                                                                      \n",
       "0        43818855.30      6354407.0  855970.228109  2.924987e+06  0.0  0.0   \n",
       "1        59585040.37         8213.0  192392.631836  1.965666e+06  0.0  0.0   \n",
       "\n",
       "                                      \n",
       "         50%        75%          max  \n",
       "isFraud                               \n",
       "0        0.0  144730.74  43686616.33  \n",
       "1        0.0       0.00  49585040.37  \n",
       "\n",
       "[2 rows x 24 columns]"
      ]
     },
     "execution_count": 42,
     "metadata": {},
     "output_type": "execute_result"
    }
   ],
   "source": [
    "#  Compare statistics of numeric features by fraud\n",
    "df.groupby('isFraud')[['amount', 'oldbalanceOrg', 'newbalanceOrig']].describe()"
   ]
  },
  {
   "cell_type": "code",
   "execution_count": 55,
   "id": "557bdc0b",
   "metadata": {},
   "outputs": [
    {
     "data": {
      "image/png": "[encoded data removed]",
      "text/plain": [
       "<Figure size 800x500 with 1 Axes>"
      ]
     },
     "metadata": {},
     "output_type": "display_data"
    }
   ],
   "source": [
    "plt.figure(figsize=(8,5))\n",
    "sns.histplot(df[df['isFraud']==0]['amount'], bins=50, color='green', label='Non-Fraud', alpha=0.6)\n",
    "sns.histplot(df[df['isFraud']==1]['amount'], bins=50, color='red', label='Fraud', alpha=0.6)\n",
    "plt.yscale('log')  # log scale for better visibility\n",
    "plt.title(\"Transaction Amount Distribution\")\n",
    "plt.xlabel(\"Amount\")\n",
    "plt.ylabel(\"Frequency (log scale)\")\n",
    "plt.legend()\n",
    "plt.show()\n"
   ]
  },
  {
   "cell_type": "markdown",
   "id": "de34ff72",
   "metadata": {},
   "source": [
    "- Fraudulent transactions (`isFraud = 1`) have **much higher average amounts** (~1.46M) compared to non-fraud (~0.18M).  \n",
    "- For fraud cases, `oldbalanceOrg` (initial sender balance) is also very high, and after fraud the `newbalanceOrig` often drops close to 0 → indicating accounts are emptied.  \n",
    "- Non-fraud transactions show more normal ranges with moderate amounts and balances.  \n",
    "- This confirms: **large transaction amounts and big balance drops are strong indicators of fraud**.  "
   ]
  },
  {
   "cell_type": "markdown",
   "id": "014010f8",
   "metadata": {},
   "source": [
    "###  Step 8 – Correlation Matrix"
   ]
  },
  {
   "cell_type": "code",
   "execution_count": 43,
   "id": "a3b5f09e",
   "metadata": {},
   "outputs": [
    {
     "data": {
      "text/html": [
       "<div>\n",
       "<style scoped>\n",
       "    .dataframe tbody tr th:only-of-type {\n",
       "        vertical-align: middle;\n",
       "    }\n",
       "\n",
       "    .dataframe tbody tr th {\n",
       "        vertical-align: top;\n",
       "    }\n",
       "\n",
       "    .dataframe thead th {\n",
       "        text-align: right;\n",
       "    }\n",
       "</style>\n",
       "<table border=\"1\" class=\"dataframe\">\n",
       "  <thead>\n",
       "    <tr style=\"text-align: right;\">\n",
       "      <th></th>\n",
       "      <th>amount</th>\n",
       "      <th>oldbalanceOrg</th>\n",
       "      <th>newbalanceOrig</th>\n",
       "      <th>oldbalanceDest</th>\n",
       "      <th>newbalanceDest</th>\n",
       "      <th>isFraud</th>\n",
       "    </tr>\n",
       "  </thead>\n",
       "  <tbody>\n",
       "    <tr>\n",
       "      <th>amount</th>\n",
       "      <td>1.000000</td>\n",
       "      <td>-0.002762</td>\n",
       "      <td>-0.007861</td>\n",
       "      <td>0.294137</td>\n",
       "      <td>0.459304</td>\n",
       "      <td>0.076688</td>\n",
       "    </tr>\n",
       "    <tr>\n",
       "      <th>oldbalanceOrg</th>\n",
       "      <td>-0.002762</td>\n",
       "      <td>1.000000</td>\n",
       "      <td>0.998803</td>\n",
       "      <td>0.066243</td>\n",
       "      <td>0.042029</td>\n",
       "      <td>0.010154</td>\n",
       "    </tr>\n",
       "    <tr>\n",
       "      <th>newbalanceOrig</th>\n",
       "      <td>-0.007861</td>\n",
       "      <td>0.998803</td>\n",
       "      <td>1.000000</td>\n",
       "      <td>0.067812</td>\n",
       "      <td>0.041837</td>\n",
       "      <td>-0.008148</td>\n",
       "    </tr>\n",
       "    <tr>\n",
       "      <th>oldbalanceDest</th>\n",
       "      <td>0.294137</td>\n",
       "      <td>0.066243</td>\n",
       "      <td>0.067812</td>\n",
       "      <td>1.000000</td>\n",
       "      <td>0.976569</td>\n",
       "      <td>-0.005885</td>\n",
       "    </tr>\n",
       "    <tr>\n",
       "      <th>newbalanceDest</th>\n",
       "      <td>0.459304</td>\n",
       "      <td>0.042029</td>\n",
       "      <td>0.041837</td>\n",
       "      <td>0.976569</td>\n",
       "      <td>1.000000</td>\n",
       "      <td>0.000535</td>\n",
       "    </tr>\n",
       "    <tr>\n",
       "      <th>isFraud</th>\n",
       "      <td>0.076688</td>\n",
       "      <td>0.010154</td>\n",
       "      <td>-0.008148</td>\n",
       "      <td>-0.005885</td>\n",
       "      <td>0.000535</td>\n",
       "      <td>1.000000</td>\n",
       "    </tr>\n",
       "  </tbody>\n",
       "</table>\n",
       "</div>"
      ],
      "text/plain": [
       "                  amount  oldbalanceOrg  newbalanceOrig  oldbalanceDest  \\\n",
       "amount          1.000000      -0.002762       -0.007861        0.294137   \n",
       "oldbalanceOrg  -0.002762       1.000000        0.998803        0.066243   \n",
       "newbalanceOrig -0.007861       0.998803        1.000000        0.067812   \n",
       "oldbalanceDest  0.294137       0.066243        0.067812        1.000000   \n",
       "newbalanceDest  0.459304       0.042029        0.041837        0.976569   \n",
       "isFraud         0.076688       0.010154       -0.008148       -0.005885   \n",
       "\n",
       "                newbalanceDest   isFraud  \n",
       "amount                0.459304  0.076688  \n",
       "oldbalanceOrg         0.042029  0.010154  \n",
       "newbalanceOrig        0.041837 -0.008148  \n",
       "oldbalanceDest        0.976569 -0.005885  \n",
       "newbalanceDest        1.000000  0.000535  \n",
       "isFraud               0.000535  1.000000  "
      ]
     },
     "execution_count": 43,
     "metadata": {},
     "output_type": "execute_result"
    }
   ],
   "source": [
    "#  Correlation between numeric features\n",
    "df[['amount','oldbalanceOrg','newbalanceOrig','oldbalanceDest','newbalanceDest','isFraud']].corr()"
   ]
  },
  {
   "cell_type": "code",
   "execution_count": 56,
   "id": "6b3aa322",
   "metadata": {},
   "outputs": [
    {
     "data": {
      "image/png": "[encoded data removed]",
      "text/plain": [
       "<Figure size 800x600 with 2 Axes>"
      ]
     },
     "metadata": {},
     "output_type": "display_data"
    }
   ],
   "source": [
    "plt.figure(figsize=(8,6))\n",
    "corr = df[['amount','oldbalanceOrg','newbalanceOrig','oldbalanceDest','newbalanceDest','isFraud']].corr()\n",
    "sns.heatmap(corr, annot=True, cmap=\"coolwarm\", fmt=\".2f\")\n",
    "plt.title(\"Correlation Heatmap\")\n",
    "plt.show()\n"
   ]
  },
  {
   "cell_type": "markdown",
   "id": "3cd22d81",
   "metadata": {},
   "source": [
    "- Very high multicollinearity observed:  \n",
    "  - `oldbalanceOrg` and `newbalanceOrig` (corr ≈ 0.989).  \n",
    "  - `oldbalanceDest` and `newbalanceDest` (corr ≈ 0.977).  \n",
    "- These pairs essentially carry duplicate information (balance before vs after transaction).  \n",
    "- Correlation of features with `isFraud` is weak overall (max ≈ 0.07 for `amount`), meaning **relationships are non-linear** → tree-based models (Random Forest, XGBoost) may perform better.  "
   ]
  },
  {
   "cell_type": "markdown",
   "id": "e1dac4de",
   "metadata": {},
   "source": [
    "###  Step 9 – Feature Selection for Modeling"
   ]
  },
  {
   "cell_type": "code",
   "execution_count": 44,
   "id": "dbcc5194",
   "metadata": {},
   "outputs": [
    {
     "data": {
      "text/html": [
       "<div>\n",
       "<style scoped>\n",
       "    .dataframe tbody tr th:only-of-type {\n",
       "        vertical-align: middle;\n",
       "    }\n",
       "\n",
       "    .dataframe tbody tr th {\n",
       "        vertical-align: top;\n",
       "    }\n",
       "\n",
       "    .dataframe thead th {\n",
       "        text-align: right;\n",
       "    }\n",
       "</style>\n",
       "<table border=\"1\" class=\"dataframe\">\n",
       "  <thead>\n",
       "    <tr style=\"text-align: right;\">\n",
       "      <th></th>\n",
       "      <th>step</th>\n",
       "      <th>type</th>\n",
       "      <th>amount</th>\n",
       "      <th>oldbalanceOrg</th>\n",
       "      <th>oldbalanceDest</th>\n",
       "      <th>isFlaggedFraud</th>\n",
       "    </tr>\n",
       "  </thead>\n",
       "  <tbody>\n",
       "    <tr>\n",
       "      <th>0</th>\n",
       "      <td>1</td>\n",
       "      <td>PAYMENT</td>\n",
       "      <td>9839.64</td>\n",
       "      <td>170136.0</td>\n",
       "      <td>0.0</td>\n",
       "      <td>0</td>\n",
       "    </tr>\n",
       "    <tr>\n",
       "      <th>1</th>\n",
       "      <td>1</td>\n",
       "      <td>PAYMENT</td>\n",
       "      <td>1864.28</td>\n",
       "      <td>21249.0</td>\n",
       "      <td>0.0</td>\n",
       "      <td>0</td>\n",
       "    </tr>\n",
       "    <tr>\n",
       "      <th>2</th>\n",
       "      <td>1</td>\n",
       "      <td>TRANSFER</td>\n",
       "      <td>181.00</td>\n",
       "      <td>181.0</td>\n",
       "      <td>0.0</td>\n",
       "      <td>0</td>\n",
       "    </tr>\n",
       "    <tr>\n",
       "      <th>3</th>\n",
       "      <td>1</td>\n",
       "      <td>CASH_OUT</td>\n",
       "      <td>181.00</td>\n",
       "      <td>181.0</td>\n",
       "      <td>21182.0</td>\n",
       "      <td>0</td>\n",
       "    </tr>\n",
       "    <tr>\n",
       "      <th>4</th>\n",
       "      <td>1</td>\n",
       "      <td>PAYMENT</td>\n",
       "      <td>11668.14</td>\n",
       "      <td>41554.0</td>\n",
       "      <td>0.0</td>\n",
       "      <td>0</td>\n",
       "    </tr>\n",
       "  </tbody>\n",
       "</table>\n",
       "</div>"
      ],
      "text/plain": [
       "   step      type    amount  oldbalanceOrg  oldbalanceDest  isFlaggedFraud\n",
       "0     1   PAYMENT   9839.64       170136.0             0.0               0\n",
       "1     1   PAYMENT   1864.28        21249.0             0.0               0\n",
       "2     1  TRANSFER    181.00          181.0             0.0               0\n",
       "3     1  CASH_OUT    181.00          181.0         21182.0               0\n",
       "4     1   PAYMENT  11668.14        41554.0             0.0               0"
      ]
     },
     "execution_count": 44,
     "metadata": {},
     "output_type": "execute_result"
    }
   ],
   "source": [
    "#  Drop ID columns and highly collinear features\n",
    "X = df.drop(columns=['nameOrig','nameDest','isFraud',\n",
    "                     'newbalanceOrig','newbalanceDest'])\n",
    "y = df['isFraud']\n",
    "\n",
    "X.head()"
   ]
  },
  {
   "cell_type": "markdown",
   "id": "3ac5e3f9",
   "metadata": {},
   "source": [
    "- Removed ID-like columns (`nameOrig`, `nameDest`) since they don’t provide predictive value.  \n",
    "- Dropped highly correlated balance features (`newbalanceOrig`, `newbalanceDest`) to avoid multicollinearity.  \n",
    "- Final feature set: `step`, `type`, `amount`, `oldbalanceOrg`, `oldbalanceDest`, `isFlaggedFraud`.  \n",
    "- Target variable: `isFraud`.  "
   ]
  },
  {
   "cell_type": "markdown",
   "id": "af99b994",
   "metadata": {},
   "source": [
    "###  Step 10 – Train-Test Split & Encoding"
   ]
  },
  {
   "cell_type": "code",
   "execution_count": 45,
   "id": "7034cdf2",
   "metadata": {},
   "outputs": [
    {
     "data": {
      "text/html": [
       "<style>#sk-container-id-2 {color: black;}#sk-container-id-2 pre{padding: 0;}#sk-container-id-2 div.sk-toggleable {background-color: white;}#sk-container-id-2 label.sk-toggleable__label {cursor: pointer;display: block;width: 100%;margin-bottom: 0;padding: 0.3em;box-sizing: border-box;text-align: center;}#sk-container-id-2 label.sk-toggleable__label-arrow:before {content: \"▸\";float: left;margin-right: 0.25em;color: #696969;}#sk-container-id-2 label.sk-toggleable__label-arrow:hover:before {color: black;}#sk-container-id-2 div.sk-estimator:hover label.sk-toggleable__label-arrow:before {color: black;}#sk-container-id-2 div.sk-toggleable__content {max-height: 0;max-width: 0;overflow: hidden;text-align: left;background-color: #f0f8ff;}#sk-container-id-2 div.sk-toggleable__content pre {margin: 0.2em;color: black;border-radius: 0.25em;background-color: #f0f8ff;}#sk-container-id-2 input.sk-toggleable__control:checked~div.sk-toggleable__content {max-height: 200px;max-width: 100%;overflow: auto;}#sk-container-id-2 input.sk-toggleable__control:checked~label.sk-toggleable__label-arrow:before {content: \"▾\";}#sk-container-id-2 div.sk-estimator input.sk-toggleable__control:checked~label.sk-toggleable__label {background-color: #d4ebff;}#sk-container-id-2 div.sk-label input.sk-toggleable__control:checked~label.sk-toggleable__label {background-color: #d4ebff;}#sk-container-id-2 input.sk-hidden--visually {border: 0;clip: rect(1px 1px 1px 1px);clip: rect(1px, 1px, 1px, 1px);height: 1px;margin: -1px;overflow: hidden;padding: 0;position: absolute;width: 1px;}#sk-container-id-2 div.sk-estimator {font-family: monospace;background-color: #f0f8ff;border: 1px dotted black;border-radius: 0.25em;box-sizing: border-box;margin-bottom: 0.5em;}#sk-container-id-2 div.sk-estimator:hover {background-color: #d4ebff;}#sk-container-id-2 div.sk-parallel-item::after {content: \"\";width: 100%;border-bottom: 1px solid gray;flex-grow: 1;}#sk-container-id-2 div.sk-label:hover label.sk-toggleable__label {background-color: #d4ebff;}#sk-container-id-2 div.sk-serial::before {content: \"\";position: absolute;border-left: 1px solid gray;box-sizing: border-box;top: 0;bottom: 0;left: 50%;z-index: 0;}#sk-container-id-2 div.sk-serial {display: flex;flex-direction: column;align-items: center;background-color: white;padding-right: 0.2em;padding-left: 0.2em;position: relative;}#sk-container-id-2 div.sk-item {position: relative;z-index: 1;}#sk-container-id-2 div.sk-parallel {display: flex;align-items: stretch;justify-content: center;background-color: white;position: relative;}#sk-container-id-2 div.sk-item::before, #sk-container-id-2 div.sk-parallel-item::before {content: \"\";position: absolute;border-left: 1px solid gray;box-sizing: border-box;top: 0;bottom: 0;left: 50%;z-index: -1;}#sk-container-id-2 div.sk-parallel-item {display: flex;flex-direction: column;z-index: 1;position: relative;background-color: white;}#sk-container-id-2 div.sk-parallel-item:first-child::after {align-self: flex-end;width: 50%;}#sk-container-id-2 div.sk-parallel-item:last-child::after {align-self: flex-start;width: 50%;}#sk-container-id-2 div.sk-parallel-item:only-child::after {width: 0;}#sk-container-id-2 div.sk-dashed-wrapped {border: 1px dashed gray;margin: 0 0.4em 0.5em 0.4em;box-sizing: border-box;padding-bottom: 0.4em;background-color: white;}#sk-container-id-2 div.sk-label label {font-family: monospace;font-weight: bold;display: inline-block;line-height: 1.2em;}#sk-container-id-2 div.sk-label-container {text-align: center;}#sk-container-id-2 div.sk-container {/* jupyter's `normalize.less` sets `[hidden] { display: none; }` but bootstrap.min.css set `[hidden] { display: none !important; }` so we also need the `!important` here to be able to override the default hidden behavior on the sphinx rendered scikit-learn.org. See: https://github.com/scikit-learn/scikit-learn/issues/21755 */display: inline-block !important;position: relative;}#sk-container-id-2 div.sk-text-repr-fallback {display: none;}</style><div id=\"sk-container-id-2\" class=\"sk-top-container\"><div class=\"sk-text-repr-fallback\"><pre>LogisticRegression(class_weight=&#x27;balanced&#x27;, max_iter=1000)</pre><b>In a Jupyter environment, please rerun this cell to show the HTML representation or trust the notebook. <br />On GitHub, the HTML representation is unable to render, please try loading this page with nbviewer.org.</b></div><div class=\"sk-container\" hidden><div class=\"sk-item\"><div class=\"sk-estimator sk-toggleable\"><input class=\"sk-toggleable__control sk-hidden--visually\" id=\"sk-estimator-id-2\" type=\"checkbox\" checked><label for=\"sk-estimator-id-2\" class=\"sk-toggleable__label sk-toggleable__label-arrow\">LogisticRegression</label><div class=\"sk-toggleable__content\"><pre>LogisticRegression(class_weight=&#x27;balanced&#x27;, max_iter=1000)</pre></div></div></div></div></div>"
      ],
      "text/plain": [
       "LogisticRegression(class_weight='balanced', max_iter=1000)"
      ]
     },
     "execution_count": 45,
     "metadata": {},
     "output_type": "execute_result"
    }
   ],
   "source": [
    "from sklearn.model_selection import train_test_split\n",
    "from sklearn.preprocessing import OneHotEncoder\n",
    "from sklearn.linear_model import LogisticRegression\n",
    "import numpy as np\n",
    "\n",
    "# Train-test split\n",
    "X_train, X_val, y_train, y_val = train_test_split(\n",
    "    X, y, test_size=0.3, random_state=42, stratify=y\n",
    ")\n",
    "\n",
    "# One-Hot Encode the 'type' column ---\n",
    "ohe = OneHotEncoder(handle_unknown='ignore', sparse=False)\n",
    "\n",
    "# Fit on train, transform both train & validation\n",
    "X_train_cat = ohe.fit_transform(X_train[['type']])\n",
    "X_val_cat   = ohe.transform(X_val[['type']])\n",
    "\n",
    "# Get encoded feature names\n",
    "ohe_cols = ohe.get_feature_names_out(['type'])\n",
    "\n",
    "#  Combine categorical and numeric features ---\n",
    "X_train_num = X_train[['step','amount','oldbalanceOrg','oldbalanceDest','isFlaggedFraud']].values\n",
    "X_val_num   = X_val[['step','amount','oldbalanceOrg','oldbalanceDest','isFlaggedFraud']].values\n",
    "\n",
    "# Concatenate numeric + categorical\n",
    "X_train_final = np.hstack([X_train_cat, X_train_num])\n",
    "X_val_final   = np.hstack([X_val_cat, X_val_num])\n",
    "\n",
    "#  Train Logistic Regression ---\n",
    "log_reg = LogisticRegression(max_iter=1000, class_weight='balanced')\n",
    "log_reg.fit(X_train_final, y_train)\n"
   ]
  },
  {
   "cell_type": "markdown",
   "id": "55ff865f",
   "metadata": {},
   "source": [
    "- `type` feature is one-hot encoded.  \n",
    "- Other features (`step`, `amount`, `oldbalanceOrg`, `oldbalanceDest`, `isFlaggedFraud`) are passed through as numeric.  \n",
    "- Baseline model = **Logistic Regression** with `class_weight='balanced'` to handle class imbalance.  \n"
   ]
  },
  {
   "cell_type": "markdown",
   "id": "364917b6",
   "metadata": {},
   "source": [
    "###  Step 11 – Baseline Model Evaluation"
   ]
  },
  {
   "cell_type": "code",
   "execution_count": 46,
   "id": "c0c9f731",
   "metadata": {},
   "outputs": [
    {
     "name": "stdout",
     "output_type": "stream",
     "text": [
      "ROC-AUC: 0.8253809829275242\n",
      "\n",
      "Classification Report:\n",
      "               precision    recall  f1-score   support\n",
      "\n",
      "           0       1.00      0.40      0.57   1906322\n",
      "           1       0.00      0.92      0.00      2464\n",
      "\n",
      "    accuracy                           0.40   1908786\n",
      "   macro avg       0.50      0.66      0.29   1908786\n",
      "weighted avg       1.00      0.40      0.57   1908786\n",
      "\n",
      "\n",
      "Confusion Matrix:\n",
      " [[ 767604 1138718]\n",
      " [    205    2259]]\n"
     ]
    }
   ],
   "source": [
    "from sklearn.metrics import classification_report, confusion_matrix, roc_auc_score\n",
    "\n",
    "# Predictions\n",
    "y_pred = log_reg.predict(X_val_final)\n",
    "y_prob = log_reg.predict_proba(X_val_final)[:, 1]\n",
    "\n",
    "# Evaluation\n",
    "print(\"ROC-AUC:\", roc_auc_score(y_val, y_prob))\n",
    "print(\"\\nClassification Report:\\n\", classification_report(y_val, y_pred))\n",
    "print(\"\\nConfusion Matrix:\\n\", confusion_matrix(y_val, y_pred))\n"
   ]
  },
  {
   "cell_type": "markdown",
   "id": "f6118ee5",
   "metadata": {},
   "source": [
    "- **ROC-AUC = 0.82** → not bad as a baseline, shows the model can separate fraud vs non-fraud to some extent.  \n",
    "- **Confusion Matrix:**  \n",
    "  - Caught **92% of fraud cases (high recall)**.  \n",
    "  - But incorrectly labeled most normal transactions as fraud (very low precision).  \n",
    "- Accuracy is misleading (40%) because of class imbalance.  \n",
    "- Conclusion: Logistic Regression (even with class weights) struggles → we need **tree-based models** (Random Forest, XGBoost) to capture non-linear patterns.  "
   ]
  },
  {
   "cell_type": "markdown",
   "id": "ca5df666",
   "metadata": {},
   "source": [
    "###  Step 12 – Random Forest Model"
   ]
  },
  {
   "cell_type": "code",
   "execution_count": 47,
   "id": "a175b0a2",
   "metadata": {},
   "outputs": [
    {
     "name": "stdout",
     "output_type": "stream",
     "text": [
      "ROC-AUC: 0.9829266871284416\n",
      "\n",
      "Classification Report:\n",
      "               precision    recall  f1-score   support\n",
      "\n",
      "           0       1.00      1.00      1.00   1906322\n",
      "           1       0.94      0.70      0.80      2464\n",
      "\n",
      "    accuracy                           1.00   1908786\n",
      "   macro avg       0.97      0.85      0.90   1908786\n",
      "weighted avg       1.00      1.00      1.00   1908786\n",
      "\n",
      "\n",
      "Confusion Matrix:\n",
      " [[1906213     109]\n",
      " [    748    1716]]\n"
     ]
    }
   ],
   "source": [
    "from sklearn.ensemble import RandomForestClassifier\n",
    "\n",
    "# Train Random Forest\n",
    "rf_model = RandomForestClassifier(\n",
    "    n_estimators=100, class_weight='balanced', random_state=42, n_jobs=-1\n",
    ")\n",
    "rf_model.fit(X_train_final, y_train)\n",
    "\n",
    "# Evaluation\n",
    "y_pred_rf, y_prob_rf = rf_model.predict(X_val_final), rf_model.predict_proba(X_val_final)[:, 1]\n",
    "\n",
    "print(\"ROC-AUC:\", roc_auc_score(y_val, y_prob_rf))\n",
    "print(\"\\nClassification Report:\\n\", classification_report(y_val, y_pred_rf))\n",
    "print(\"\\nConfusion Matrix:\\n\", confusion_matrix(y_val, y_pred_rf))\n"
   ]
  },
  {
   "cell_type": "markdown",
   "id": "d2d54d40",
   "metadata": {},
   "source": [
    "- **ROC-AUC = 0.98** → excellent separation ability.  \n",
    "- **Confusion Matrix:**  \n",
    "  - Normal transactions (0): almost all correctly classified (only 109 false positives).  \n",
    "  - Fraud transactions (1): ~70% detected (1716 out of 2464).  \n",
    "- **Precision for fraud = 0.94** → very few false alarms.  \n",
    "- **Recall for fraud = 0.70** → still some fraud cases missed, but much better balance compared to Logistic Regression.  \n",
    "- Conclusion: **Random Forest provides a strong model**, capturing non-linear relationships and giving high performance.  "
   ]
  },
  {
   "cell_type": "markdown",
   "id": "b8a622d8",
   "metadata": {},
   "source": [
    "###  Step 13 – XGBoost Model"
   ]
  },
  {
   "cell_type": "code",
   "execution_count": 48,
   "id": "4489ef1b",
   "metadata": {},
   "outputs": [
    {
     "name": "stdout",
     "output_type": "stream",
     "text": [
      "ROC-AUC: 0.9995272041468526\n",
      "\n",
      "Classification Report:\n",
      "               precision    recall  f1-score   support\n",
      "\n",
      "           0       1.00      1.00      1.00   1906322\n",
      "           1       0.22      0.98      0.36      2464\n",
      "\n",
      "    accuracy                           1.00   1908786\n",
      "   macro avg       0.61      0.99      0.68   1908786\n",
      "weighted avg       1.00      1.00      1.00   1908786\n",
      "\n",
      "\n",
      "Confusion Matrix:\n",
      " [[1897601    8721]\n",
      " [     39    2425]]\n"
     ]
    }
   ],
   "source": [
    "from xgboost import XGBClassifier\n",
    "\n",
    "# Train XGBoost\n",
    "xgb_model = XGBClassifier(\n",
    "    n_estimators=300,\n",
    "    max_depth=6,\n",
    "    learning_rate=0.1,\n",
    "    scale_pos_weight=(len(y_train)-sum(y_train))/sum(y_train),  # handle imbalance\n",
    "    subsample=0.8,\n",
    "    colsample_bytree=0.8,\n",
    "    random_state=42,\n",
    "    n_jobs=-1,\n",
    "    use_label_encoder=False,\n",
    "    eval_metric='logloss'\n",
    ")\n",
    "\n",
    "xgb_model.fit(X_train_final, y_train)\n",
    "\n",
    "# Evaluation\n",
    "y_pred_xgb = xgb_model.predict(X_val_final)\n",
    "y_prob_xgb = xgb_model.predict_proba(X_val_final)[:, 1]\n",
    "\n",
    "print(\"ROC-AUC:\", roc_auc_score(y_val, y_prob_xgb))\n",
    "print(\"\\nClassification Report:\\n\", classification_report(y_val, y_pred_xgb))\n",
    "print(\"\\nConfusion Matrix:\\n\", confusion_matrix(y_val, y_pred_xgb))\n"
   ]
  },
  {
   "cell_type": "markdown",
   "id": "720d3ea0",
   "metadata": {},
   "source": [
    "- **ROC-AUC = 0.9995** → near perfect separation of fraud vs non-fraud.  \n",
    "- **Recall for fraud = 98%** → almost all fraud cases are caught.  \n",
    "- **Precision for fraud = 0.22** → many normal transactions are incorrectly flagged as fraud.  \n",
    "- Confusion Matrix:  \n",
    "  - Fraud (1): 2425 detected out of 2464 → only 39 missed.  \n",
    "  - Non-fraud (0): 8721 false alarms out of 1.9M → very small percentage.  \n",
    "- Conclusion: **XGBoost is extremely powerful for this dataset**, maximizing fraud detection (recall) which is most important for business, even if precision is lower.  "
   ]
  },
  {
   "cell_type": "markdown",
   "id": "99bfe188",
   "metadata": {},
   "source": [
    "###  Step 14 – Feature Importances from XGBoost"
   ]
  },
  {
   "cell_type": "code",
   "execution_count": 49,
   "id": "228b3c1c",
   "metadata": {},
   "outputs": [
    {
     "name": "stdout",
     "output_type": "stream",
     "text": [
      "[('type_CASH_IN', 0.479748), ('type_PAYMENT', 0.28461847), ('type_CASH_OUT', 0.064944215), ('type_TRANSFER', 0.0638189), ('oldbalanceOrg', 0.042878587), ('amount', 0.031493064), ('type_DEBIT', 0.012032385), ('oldbalanceDest', 0.010764136), ('step', 0.00792785), ('isFlaggedFraud', 0.0017743924)]\n"
     ]
    }
   ],
   "source": [
    "# One-hot encoder se feature names\n",
    "ohe_cols = list(ohe.get_feature_names_out(['type']))\n",
    "remainder_cols = ['step','amount','oldbalanceOrg','oldbalanceDest','isFlaggedFraud']\n",
    "feature_names = ohe_cols + remainder_cols\n",
    "\n",
    "# XGBoost feature importances\n",
    "importances = xgb_model.feature_importances_\n",
    "feat_imp = sorted(zip(feature_names, importances), key=lambda x: x[1], reverse=True)\n",
    "\n",
    "# Top 10 important features\n",
    "print(feat_imp[:10])\n"
   ]
  },
  {
   "cell_type": "markdown",
   "id": "27532a06",
   "metadata": {},
   "source": [
    "- **Top features (XGBoost importances):**\n",
    "  1. `type_CASH_IN` (0.48)  \n",
    "  2. `type_PAYMENT` (0.28)  \n",
    "  3. `type_CASH_OUT` (0.06)  \n",
    "  4. `type_TRANSFER` (0.06)  \n",
    "  5. `oldbalanceOrg` (0.04)  \n",
    "  6. `amount` (0.03)  \n",
    "\n",
    "- Interpretation:  \n",
    "  - Transaction **type** is the most influential factor (fraud only happens in `TRANSFER` and `CASH_OUT`, never in `PAYMENT` or `CASH_IN`).  \n",
    "  - **Old balance of the origin account** and **transaction amount** are also important predictors → frauds usually involve **large balances and high-value transfers**.  \n",
    "  - `isFlaggedFraud` is almost unused by the model (0.001 importance), confirming that business rules are weak compared to ML model.  \n",
    "- This makes sense with business logic: fraudsters try to empty accounts via `TRANSFER` + `CASH_OUT` transactions, and larger balances are prime targets.  "
   ]
  },
  {
   "cell_type": "markdown",
   "id": "e34da2db",
   "metadata": {},
   "source": [
    "###  Step 15 – Prevention Strategies & Monitoring Effectiveness"
   ]
  },
  {
   "cell_type": "code",
   "execution_count": 50,
   "id": "60af0205",
   "metadata": {},
   "outputs": [
    {
     "name": "stdout",
     "output_type": "stream",
     "text": [
      "Prevention Strategies:\n",
      "\n",
      "-  Real-time monitoring of TRANSFER and CASH_OUT transactions, especially high-value ones.\n",
      "-  Set transaction amount thresholds (e.g., >200k) with dynamic risk scoring instead of static flagging.\n",
      "-  Multi-factor authentication for suspicious transactions.\n",
      "-  Monitor accounts with sudden large balance drops or unusual patterns.\n",
      "-  Strengthen KYC and customer profiling to detect account takeovers.\n",
      "\n",
      "How to Monitor Effectiveness:\n",
      "\n",
      "-  Track fraud detection rate before and after new system.\n",
      "-  Measure false positive rate (legitimate transactions flagged).\n",
      "-  Calculate cost savings (fraud prevented vs investigation cost).\n",
      "-  Regularly retrain ML model to adapt to new fraud patterns.\n"
     ]
    }
   ],
   "source": [
    "# Step 15: Business recommendations (not code, but key actions)\n",
    "\n",
    "prevention_strategies = [\n",
    "    \" Real-time monitoring of TRANSFER and CASH_OUT transactions, especially high-value ones.\",\n",
    "    \" Set transaction amount thresholds (e.g., >200k) with dynamic risk scoring instead of static flagging.\",\n",
    "    \" Multi-factor authentication for suspicious transactions.\",\n",
    "    \" Monitor accounts with sudden large balance drops or unusual patterns.\",\n",
    "    \" Strengthen KYC and customer profiling to detect account takeovers.\"\n",
    "]\n",
    "\n",
    "monitoring_effectiveness = [\n",
    "    \" Track fraud detection rate before and after new system.\",\n",
    "    \" Measure false positive rate (legitimate transactions flagged).\",\n",
    "    \" Calculate cost savings (fraud prevented vs investigation cost).\",\n",
    "    \" Regularly retrain ML model to adapt to new fraud patterns.\"\n",
    "]\n",
    "\n",
    "print(\"Prevention Strategies:\\n\", *prevention_strategies, sep=\"\\n- \")\n",
    "print(\"\\nHow to Monitor Effectiveness:\\n\", *monitoring_effectiveness, sep=\"\\n- \")"
   ]
  },
  {
   "cell_type": "markdown",
   "id": "47363200",
   "metadata": {},
   "source": [
    "# 📌 Key Questions & Answers  \n",
    "\n",
    "### 1. How was the dataset cleaned and prepared for modeling?  \n",
    "- No missing values found.  \n",
    "- Fraud cases looked like outliers (very high amounts) but kept as true signals.  \n",
    "- Strong multicollinearity in balances → dropped `newbalanceOrig` & `newbalanceDest`.  \n",
    "- Removed ID-like columns (`nameOrig`, `nameDest`).  \n",
    "\n",
    "---\n",
    "\n",
    "### 2. Which models were used and how did they perform?  \n",
    "- **Logistic Regression:** ROC-AUC 0.82, high recall but poor precision.  \n",
    "- **Random Forest:** ROC-AUC 0.98, recall 70%, precision 94%.  \n",
    "- **XGBoost:** ROC-AUC 0.9995, recall 98%, precision 22%.  \n",
    "- **Final Choice:** XGBoost for best recall (catching most frauds).  \n",
    "\n",
    "---\n",
    "\n",
    "### 3. What are the most important factors that indicate fraud?  \n",
    "- Fraud only occurs in **TRANSFER** and **CASH_OUT** transactions.  \n",
    "- **Old balance of origin account** (high balances are targeted).  \n",
    "- **Transaction amount** (fraud usually involves large amounts).  \n",
    "- Business flag (`isFlaggedFraud`) was almost irrelevant.  \n",
    "\n",
    "---\n",
    "\n",
    "### 4. How do these results make sense in real-world fraud detection?  \n",
    "- Fraudsters typically **empty accounts** via transfer + cash out.  \n",
    "- **Large balances** are attractive targets.  \n",
    "- Static rules (e.g., transfers >200k) miss most fraud, ML captures hidden patterns.  \n",
    "\n",
    "---\n",
    "\n",
    "### 5. What strategies should be implemented to prevent fraud in practice?  \n",
    "- Real-time monitoring of TRANSFER & CASH_OUT.  \n",
    "- Use **dynamic risk scoring** instead of fixed thresholds.  \n",
    "- Multi-factor authentication for risky transactions.  \n",
    "- Track **sudden balance drops** or unusual patterns.  \n",
    "- Retrain ML models regularly to adapt to new fraud tactics.  \n"
   ]
  }
 ],
 "metadata": {
  "kernelspec": {
   "display_name": "myenv",
   "language": "python",
   "name": "python3"
  },
  "language_info": {
   "codemirror_mode": {
    "name": "ipython",
    "version": 3
   },
   "file_extension": ".py",
   "mimetype": "text/x-python",
   "name": "python",
   "nbconvert_exporter": "python",
   "pygments_lexer": "ipython3",
   "version": "3.10.18"
  }
 },
 "nbformat": 4,
 "nbformat_minor": 5
}
